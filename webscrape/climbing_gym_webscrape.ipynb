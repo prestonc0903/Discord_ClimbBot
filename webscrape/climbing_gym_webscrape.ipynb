{
 "cells": [
  {
   "cell_type": "code",
   "execution_count": 1,
   "id": "418991a2",
   "metadata": {},
   "outputs": [],
   "source": [
    "# Import packages we will be using\n",
    "import pandas as pd\n",
    "import requests\n",
    "from bs4 import BeautifulSoup\n",
    "import re"
   ]
  },
  {
   "cell_type": "code",
   "execution_count": 53,
   "id": "49267492",
   "metadata": {},
   "outputs": [],
   "source": [
    "# Initializing variables\n",
    "climbing_gyms = pd.DataFrame(columns=['gym_name', 'address', 'phone_number'])\n",
    "states = [\n",
    "    'alabama', 'alaska', 'arizona', 'arkansas', 'california', 'colorado', 'connecticut',\n",
    "    'delaware', 'florida', 'georgia', 'hawaii', 'idaho', 'illinois', 'indiana', 'iowa',\n",
    "    'kansas', 'kentucky', 'louisiana', 'maine', 'maryland', 'massachusetts', 'michigan',\n",
    "    'minnesota', 'mississippi', 'missouri', 'montana', 'nebraska', 'nevada', 'new-hampshire',\n",
    "    'new-jersey', 'new-mexico', 'new-york', 'north-carolina', 'north-dakota', 'ohio',\n",
    "    'oklahoma', 'oregon', 'pennsylvania', 'rhode-island', 'south-carolina', 'south-dakota',\n",
    "    'tennessee', 'texas', 'utah', 'vermont', 'virginia', 'washington', 'west-virginia',\n",
    "    'wisconsin', 'wyoming'\n",
    "]\n",
    "# Getting a list of the URLS to each gym website from MountainProject using each State category.\n",
    "state_urls = ['https://www.mountainproject.com/gyms/' + state for state in states]\n",
    "climbing_gym_urls = [\n",
    "    td.find('a')['href']\n",
    "    for url in state_urls\n",
    "    for td in BeautifulSoup(requests.get(url).text, 'html.parser').find_all('td', {'class': 'text-truncate'})\n",
    "]"
   ]
  },
  {
   "cell_type": "code",
   "execution_count": 65,
   "id": "744b2df4",
   "metadata": {},
   "outputs": [],
   "source": [
    "gym_data_list = []\n",
    "# Getting the Gym name, address and phone number if available and exporting to excel.\n",
    "for url in climbing_gym_urls:\n",
    "    response = requests.get(url)\n",
    "    soup = BeautifulSoup(response.text, 'html.parser')\n",
    "    \n",
    "    # Try to find gym name, otherwise set to 'N/A'\n",
    "    gym_name = soup.find('h1').get_text(strip=True) if soup.find('h1') else 'N/A'\n",
    "    \n",
    "    # Try to find gym info div, otherwise set to 'N/A' for both phone and address\n",
    "    gym_info_div = soup.find('div', class_='gym-info')\n",
    "    if gym_info_div:\n",
    "        # Extract all <div> elements inside the gym info div\n",
    "        divs = gym_info_div.find_all('div')\n",
    "        phone_number = divs[1].get_text(strip=True) if len(divs) > 1 else 'N/A'\n",
    "        address = divs[2].find('a').get_text(strip=True) if len(divs) > 2 and divs[2].find('a') else 'N/A'\n",
    "    else:\n",
    "        phone_number = 'N/A'\n",
    "        address = 'N/A'\n",
    "\n",
    "    # Append the gym data directly to the list\n",
    "    gym_data_list.append({'gym_name': gym_name, 'address': address, 'phone_number': phone_number})\n",
    "\n",
    "# Convert list of dictionaries to DataFrame in one step\n",
    "climbing_gyms = pd.DataFrame(gym_data_list)"
   ]
  },
  {
   "cell_type": "code",
   "execution_count": 76,
   "id": "d3151e60",
   "metadata": {},
   "outputs": [],
   "source": [
    "climbing_gyms.to_excel('climbing_gyms.xlsx', index=False)"
   ]
  }
 ],
 "metadata": {
  "kernelspec": {
   "display_name": "Python 3 (ipykernel)",
   "language": "python",
   "name": "python3"
  },
  "language_info": {
   "codemirror_mode": {
    "name": "ipython",
    "version": 3
   },
   "file_extension": ".py",
   "mimetype": "text/x-python",
   "name": "python",
   "nbconvert_exporter": "python",
   "pygments_lexer": "ipython3",
   "version": "3.11.5"
  }
 },
 "nbformat": 4,
 "nbformat_minor": 5
}
